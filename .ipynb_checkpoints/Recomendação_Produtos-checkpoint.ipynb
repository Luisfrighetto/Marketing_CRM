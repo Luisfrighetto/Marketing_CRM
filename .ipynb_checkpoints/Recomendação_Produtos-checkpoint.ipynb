{
 "cells": [
  {
   "cell_type": "markdown",
   "id": "150e2420",
   "metadata": {},
   "source": [
    "O Pão de Mel é um mercado online muito popular. Um empresa como essa sempre precisa compreender o padrão de consumo de seus clientes para fazer ofertas direcionadas, programas de pontos e várias outras iniciativas para que os clientes tenham maior recorrência de compra.\n",
    "\n",
    "Desta forma, o time de Análise de Dados foi escalado para analisar as compras do último ano de mais de 200 mil usuários dentro do site de forma a fornecer insights que podem ser úteis para o time de Marketing conduzir estratégias mais interessantes do ponto de vista de rentabilidade e experiência do usuário.\n",
    "\n",
    " \n",
    "\n",
    "Com base nisso, o time de Marketing pede um trabalho de duas partes.\n",
    "\n",
    " \n",
    "\n",
    "Parte 1 – Análise Exploratória\n",
    "\n",
    "Análises Exploratórias que respondam ao menos as seguintes perguntas:\n",
    "\n",
    "a.     Qual a distribuição de vendas por:\n",
    "\n",
    " i.     Departamento de produtos\n",
    " ii.     Dia de semana\n",
    " iii.     Hora do dia\n",
    "\n",
    "b.     Ranking TOP 5 Produtos mais vendidos por departamento (com frequência relativa e acumulada)\n",
    "c.     Existe alguma concentração de tipo de produto por hora do dia em que é vendido? Ex: Pizza se compra a noite? Itens de café na parte da manhã ?\n",
    "\n",
    "Parte 2 – Recomendação de Produtos\n",
    "Uma tipo de análise muito útil para e-commerce em geral é a de Recomendação de Produtos. Todos nós já vimos em sites e aplicativos as recomendações de compra de acordo com os itens que buscamos. \n",
    "\n",
    " algoritmo de recomendação de produtos sugeriu tomates e cebolas para quem estava buscando e/ou comprando abacates. Talvez sejam itens muito procurados para se fazer receitas como o Guacamole (comida típica mexicana).\n",
    "O time de Marketing da Pão de Mel gostaria muito que o time de Analytics os ajudasse a desenvolver algo parecido para incluir no site. Portanto, pede-se:\n",
    "\n",
    "1.    Desenvolver uma análise de Recomendação de Produtos:\n",
    "\n",
    "a.     É possível buscar insights sobre quais os itens mais recomendados de acordo com a escolha de um produto? Ex: Clientes que compram pizza também compram ketchup ?\n",
    "\n",
    "b.     Após criar uma base de dados com os itens recomendados e suas respectivas probabilidades de compra, desenvolva uma planilha em Excel que mostre as recomendações para cada produto comprado, probabilidades de compra e seu departamento.\n",
    "\n",
    "Informações sobre as bases:\n",
    "\n",
    "·       Quantidade de produtos vendidos: 5.262.584\n",
    "\n",
    "·       Quantidade de departamentos: 21\n",
    "\n",
    "·       Quantidade de produtos da loja: 49.688"
   ]
  },
  {
   "cell_type": "code",
   "execution_count": 32,
   "id": "8b17d2c9",
   "metadata": {
    "scrolled": true
   },
   "outputs": [],
   "source": [
    "# Pacotes de preparação dos dados\n",
    "import numpy as np\n",
    "import pandas as pd\n",
    "\n",
    "# Pacotes gráficos\n",
    "import matplotlib.pyplot as plt\n",
    "import seaborn as sns\n",
    "\n",
    "# Pacotes de modelagem\n",
    "import sklearn\n",
    "from sklearn.preprocessing import StandardScaler\n",
    "from sklearn.cluster import KMeans\n",
    "\n",
    "#Pensei em fazer esse case a partir de analise de agrupamento. Possível?\n",
    "#Agrega mais informação ou menos? Talvez um dendrograma de produtos para cada departamento?\n",
    "\n",
    "# Ocultando alertas\n",
    "#import warnings\n",
    "#warnings.filterwarnings(\"ignore\")\n",
    "#warnings.simplefilter(action=\"ignore\", category=FutereWarning)\n",
    "#warnings.simplefilter(action=\"ignore\", category=deprecationWarning)\n",
    "\n",
    "from mlxtend.frequent_patterns import apriori\n",
    "from mlxtend.frequent_patterns import association_rules"
   ]
  },
  {
   "cell_type": "code",
   "execution_count": 25,
   "id": "aabaf863",
   "metadata": {},
   "outputs": [],
   "source": [
    "df = pd.read_csv('base_produtos_v2.csv', sep=',')"
   ]
  },
  {
   "cell_type": "code",
   "execution_count": 28,
   "id": "127da758",
   "metadata": {
    "scrolled": true
   },
   "outputs": [
    {
     "name": "stdout",
     "output_type": "stream",
     "text": [
      "Produto_Comprado  Instant food products  UHT-milk  abrasive cleaner  \\\n",
      "Id_Cliente                                                            \n",
      "1                                     0         0                 0   \n",
      "2                                     0         0                 0   \n",
      "3                                     0         0                 0   \n",
      "4                                     0         0                 0   \n",
      "5                                     0         0                 1   \n",
      "...                                 ...       ...               ...   \n",
      "9830                                  0         0                 0   \n",
      "9831                                  0         0                 0   \n",
      "9832                                  0         0                 0   \n",
      "9833                                  0         0                 0   \n",
      "9834                                  0         0                 0   \n",
      "\n",
      "Produto_Comprado  artif. sweetener  baby cosmetics  baby food  bags  \\\n",
      "Id_Cliente                                                            \n",
      "1                                0               0          0     0   \n",
      "2                                0               0          0     0   \n",
      "3                                0               0          0     0   \n",
      "4                                0               0          0     0   \n",
      "5                                0               0          0     0   \n",
      "...                            ...             ...        ...   ...   \n",
      "9830                             0               0          0     0   \n",
      "9831                             0               0          0     0   \n",
      "9832                             0               0          0     0   \n",
      "9833                             0               0          0     0   \n",
      "9834                             0               0          0     0   \n",
      "\n",
      "Produto_Comprado  baking powder  bathroom cleaner  beef  ...  turkey  vinegar  \\\n",
      "Id_Cliente                                               ...                    \n",
      "1                             0                 0     0  ...       0        0   \n",
      "2                             0                 0     0  ...       0        0   \n",
      "3                             0                 0     0  ...       0        0   \n",
      "4                             0                 0     0  ...       0        0   \n",
      "5                             0                 0     0  ...       0        0   \n",
      "...                         ...               ...   ...  ...     ...      ...   \n",
      "9830                          0                 0     1  ...       0        0   \n",
      "9831                          0                 0     0  ...       0        0   \n",
      "9832                          0                 0     0  ...       0        0   \n",
      "9833                          0                 0     0  ...       0        0   \n",
      "9834                          0                 0     0  ...       0        1   \n",
      "\n",
      "Produto_Comprado  waffles  whipped/sour cream  whisky  white bread  \\\n",
      "Id_Cliente                                                           \n",
      "1                       0                   0       0            0   \n",
      "2                       0                   0       0            0   \n",
      "3                       0                   0       0            0   \n",
      "4                       0                   0       0            0   \n",
      "5                       0                   0       0            0   \n",
      "...                   ...                 ...     ...          ...   \n",
      "9830                    0                   1       0            0   \n",
      "9831                    0                   0       0            0   \n",
      "9832                    0                   0       0            0   \n",
      "9833                    0                   0       0            0   \n",
      "9834                    0                   0       0            0   \n",
      "\n",
      "Produto_Comprado  white wine  whole milk  yogurt  zwieback  \n",
      "Id_Cliente                                                  \n",
      "1                          0           0       1         0  \n",
      "2                          0           1       0         0  \n",
      "3                          0           0       1         0  \n",
      "4                          0           1       0         0  \n",
      "5                          0           1       1         0  \n",
      "...                      ...         ...     ...       ...  \n",
      "9830                       0           1       0         0  \n",
      "9831                       0           0       0         0  \n",
      "9832                       0           0       1         0  \n",
      "9833                       0           0       0         0  \n",
      "9834                       0           0       0         0  \n",
      "\n",
      "[9834 rows x 169 columns]\n"
     ]
    }
   ],
   "source": [
    "df['Comprou'] = 1\n",
    "\n",
    "# Use o pivot_table para criar a matriz de cesta de compras\n",
    "cesta_compras = df.pivot_table(index='Id_Cliente', columns='Produto_Comprado', values='Comprou', aggfunc='max', fill_value=0)\n",
    "\n",
    "print(cesta_compras)"
   ]
  },
  {
   "cell_type": "code",
   "execution_count": 33,
   "id": "f58c7ba7",
   "metadata": {
    "collapsed": true
   },
   "outputs": [
    {
     "name": "stderr",
     "output_type": "stream",
     "text": [
      "C:\\Users\\tania\\anaconda3\\lib\\site-packages\\mlxtend\\frequent_patterns\\fpcommon.py:110: DeprecationWarning: DataFrames with non-bool types result in worse computationalperformance and their support might be discontinued in the future.Please use a DataFrame with bool type\n",
      "  warnings.warn(\n"
     ]
    }
   ],
   "source": [
    "my_frequent_itemsets = apriori(cesta_compras, min_support=0.07, use_colnames=True)"
   ]
  },
  {
   "cell_type": "code",
   "execution_count": 37,
   "id": "84311bc3",
   "metadata": {},
   "outputs": [],
   "source": [
    "my_rules = association_rules(my_frequent_itemsets, metric=\"lift\", min_threshold = 1) "
   ]
  },
  {
   "cell_type": "code",
   "execution_count": 40,
   "id": "0cfec3b0",
   "metadata": {},
   "outputs": [
    {
     "data": {
      "text/html": [
       "<div>\n",
       "<style scoped>\n",
       "    .dataframe tbody tr th:only-of-type {\n",
       "        vertical-align: middle;\n",
       "    }\n",
       "\n",
       "    .dataframe tbody tr th {\n",
       "        vertical-align: top;\n",
       "    }\n",
       "\n",
       "    .dataframe thead th {\n",
       "        text-align: right;\n",
       "    }\n",
       "</style>\n",
       "<table border=\"1\" class=\"dataframe\">\n",
       "  <thead>\n",
       "    <tr style=\"text-align: right;\">\n",
       "      <th></th>\n",
       "      <th>antecedents</th>\n",
       "      <th>consequents</th>\n",
       "      <th>antecedent support</th>\n",
       "      <th>consequent support</th>\n",
       "      <th>support</th>\n",
       "      <th>confidence</th>\n",
       "      <th>lift</th>\n",
       "      <th>leverage</th>\n",
       "      <th>conviction</th>\n",
       "      <th>zhangs_metric</th>\n",
       "    </tr>\n",
       "  </thead>\n",
       "  <tbody>\n",
       "    <tr>\n",
       "      <th>0</th>\n",
       "      <td>(whole milk)</td>\n",
       "      <td>(other vegetables)</td>\n",
       "      <td>0.255542</td>\n",
       "      <td>0.193512</td>\n",
       "      <td>0.074842</td>\n",
       "      <td>0.292877</td>\n",
       "      <td>1.51348</td>\n",
       "      <td>0.025392</td>\n",
       "      <td>1.140520</td>\n",
       "      <td>0.455729</td>\n",
       "    </tr>\n",
       "    <tr>\n",
       "      <th>1</th>\n",
       "      <td>(other vegetables)</td>\n",
       "      <td>(whole milk)</td>\n",
       "      <td>0.193512</td>\n",
       "      <td>0.255542</td>\n",
       "      <td>0.074842</td>\n",
       "      <td>0.386758</td>\n",
       "      <td>1.51348</td>\n",
       "      <td>0.025392</td>\n",
       "      <td>1.213971</td>\n",
       "      <td>0.420677</td>\n",
       "    </tr>\n",
       "  </tbody>\n",
       "</table>\n",
       "</div>"
      ],
      "text/plain": [
       "          antecedents         consequents  antecedent support  \\\n",
       "0        (whole milk)  (other vegetables)            0.255542   \n",
       "1  (other vegetables)        (whole milk)            0.193512   \n",
       "\n",
       "   consequent support   support  confidence     lift  leverage  conviction  \\\n",
       "0            0.193512  0.074842    0.292877  1.51348  0.025392    1.140520   \n",
       "1            0.255542  0.074842    0.386758  1.51348  0.025392    1.213971   \n",
       "\n",
       "   zhangs_metric  \n",
       "0       0.455729  \n",
       "1       0.420677  "
      ]
     },
     "execution_count": 40,
     "metadata": {},
     "output_type": "execute_result"
    }
   ],
   "source": [
    "my_rules"
   ]
  }
 ],
 "metadata": {
  "kernelspec": {
   "display_name": "Python 3 (ipykernel)",
   "language": "python",
   "name": "python3"
  },
  "language_info": {
   "codemirror_mode": {
    "name": "ipython",
    "version": 3
   },
   "file_extension": ".py",
   "mimetype": "text/x-python",
   "name": "python",
   "nbconvert_exporter": "python",
   "pygments_lexer": "ipython3",
   "version": "3.9.13"
  }
 },
 "nbformat": 4,
 "nbformat_minor": 5
}
